{
 "cells": [
  {
   "attachments": {},
   "cell_type": "markdown",
   "metadata": {},
   "source": [
    "1. What is Django\n",
    "- free and open source to build web applications in Python\n",
    "- batteries included: ORM, template engine, form processing, authentication, admin panel, etc.\n",
    "- ORM: Object Relational Mapper (converts data between incompatible type systems)\n",
    "- huge community\n",
    "\n",
    "2. Why Django\n",
    "- fast development\n",
    "- secure\n",
    "- scalable\n",
    "- versatile\n",
    "- versatile: can be used to build any type of web application"
   ]
  },
  {
   "attachments": {},
   "cell_type": "markdown",
   "metadata": {},
   "source": [
    "# How the web works\n",
    "\n",
    "## front end\n",
    "\n",
    "- HTML: content\n",
    "- CSS: style\n",
    "- JavaScript: behavior\n",
    "- React, Angular, Vue: frameworks to build front end\n",
    "\n",
    "## back end\n",
    "\n",
    "- server: handle requests and send responses\n",
    "- database: store and retrieve data\n",
    "- provide API (Application Programming Interface) to front end\n"
   ]
  },
  {
   "attachments": {},
   "cell_type": "markdown",
   "metadata": {},
   "source": [
    "Command to create a project\n",
    "\n",
    "```\n",
    "    django-admin startproject mysite\n",
    "```\n",
    "Command to run development server\n",
    "\n",
    "```\n",
    "    python manage.py runserver\n",
    "```\n",
    "Command to create an app\n",
    "\n",
    "```\n",
    "    python manage.py startapp <app_name>\n",
    "```\n",
    "Need to register the app in settings.py\n",
    "\n",
    "Models: define the structure of the database\n",
    "\n",
    "- each model is a Python class that subclasses django.db.models.Model\n",
    "- each attribute of the model represents a database field\n",
    "- with all of this, Django gives you an automatically-generated database-access API\n",
    "\n",
    "Example of a model\n",
    "\n",
    "Product: name, price, description, image\n",
    "\n",
    "```"
   ]
  }
 ],
 "metadata": {
  "language_info": {
   "name": "python"
  },
  "orig_nbformat": 4
 },
 "nbformat": 4,
 "nbformat_minor": 2
}
